{
 "cells": [
  {
   "cell_type": "markdown",
   "metadata": {},
   "source": [
    "# DS-GA-3001 Advanced Python for Data Science"
   ]
  },
  {
   "cell_type": "markdown",
   "metadata": {
    "nbgrader": {
     "grade": false,
     "solution": false
    }
   },
   "source": [
    "Before you turn this problem in, make sure you **restart the kernel** (in the menubar, select Kernel$\\rightarrow$Restart). You can then run the cells **in order**, during the class.\n",
    "\n",
    "Any textual answers that need to be provided will be marked with \"YOUR ANSWER HERE\". Replace this text with your answer to the question.\n",
    "\n",
    "Any code answers that need to be provided will be marked with:\n",
    "\n",
    "```\n",
    "# YOUR CODE HERE\n",
    "raise NotImplementedError()\n",
    "```\n",
    "\n",
    "Replace all this code with your answer to the question. If you do not answer the question, the `NotImplementedError` exception will be raised, which will indicate to the grader that no answer has been supplied.\n",
    "\n",
    "In many cases, code answers will also have some associated test code. You should execute the tests after you have entered your code in order to ensure that your answer is correct. You should not proceed to the next question until your answer is correct.\n",
    "\n",
    "Finally, insert your Net ID and the Net ID's of any collaborators in the cell below."
   ]
  },
  {
   "cell_type": "code",
   "execution_count": 1,
   "metadata": {
    "collapsed": false,
    "nbgrader": {
     "grade": false,
     "solution": false
    }
   },
   "outputs": [],
   "source": [
    "NET_ID = \"hz990\"\n",
    "COLLABORATORS = \"\""
   ]
  },
  {
   "cell_type": "markdown",
   "metadata": {},
   "source": [
    "# GPU Programming With Numba"
   ]
  },
  {
   "cell_type": "markdown",
   "metadata": {},
   "source": [
    "Numba supports CUDA GPU programming by directly compiling a restricted subset of Python code into CUDA kernels and device functions following the CUDA execution model. \n",
    "\n",
    "One feature that significantly simplifies writing GPU kernels is that Numba makes it appear that the kernel has direct access to NumPy arrays. NumPy arrays that are supplied as arguments to the kernel are transferred between the CPU and the GPU automatically (although this can also be an issue).\n",
    "\n",
    "Numba does not yet implement the full CUDA API, so some features are not available. However the features that are provided are enough to begin experimenting with writing GPU enable kernels. CUDA support in Numba is being actively developed, so eventually most of the features should be available."
   ]
  },
  {
   "cell_type": "markdown",
   "metadata": {},
   "source": [
    "## Installation"
   ]
  },
  {
   "cell_type": "markdown",
   "metadata": {},
   "source": [
    "Numba supports CUDA-enabled GPUs with [compute capability 2.0](http://docs.nvidia.com/cuda/cuda-c-programming-guide/#compute-capability-2-x) or above with an up-to-data Nvidia driver. You can still use Numba without a CUDA-enabled GPU using the CUDA simulator, however you will not get the performance benefits of running on a GPU."
   ]
  },
  {
   "cell_type": "markdown",
   "metadata": {},
   "source": [
    "You will need the CUDA toolkit installed. If you are using Conda, just type:"
   ]
  },
  {
   "cell_type": "raw",
   "metadata": {},
   "source": [
    "$ conda install cudatoolkit"
   ]
  },
  {
   "cell_type": "markdown",
   "metadata": {},
   "source": [
    "It is also possible to install the CUDA Toolkit directly from NVIDIA, however this may require additional configuration to enable it to work with Numba."
   ]
  },
  {
   "cell_type": "markdown",
   "metadata": {},
   "source": [
    "## Terminology"
   ]
  },
  {
   "cell_type": "markdown",
   "metadata": {},
   "source": [
    "Several important terms in the topic of CUDA programming are listed here:\n",
    "\n",
    "- *host*: the CPU\n",
    "- *device*: the GPU\n",
    "- *host memory*: the system main memory\n",
    "- *device memory*: onboard memory on a GPU card\n",
    "- *kernel*: a GPU function launched by the host and executed on the device\n",
    "- *device function*: a GPU function executed on the device which can only be called from the  device (i.e. from a kernel or another device function)"
   ]
  },
  {
   "cell_type": "markdown",
   "metadata": {},
   "source": [
    "## Device Management"
   ]
  },
  {
   "cell_type": "markdown",
   "metadata": {},
   "source": [
    "It is possible to obtain a list of all the GPUs in the system using the following commands:"
   ]
  },
  {
   "cell_type": "code",
   "execution_count": 1,
   "metadata": {
    "collapsed": false
   },
   "outputs": [
    {
     "name": "stdout",
     "output_type": "stream",
     "text": [
      "<Managed Device 0>\n"
     ]
    },
    {
     "name": "stderr",
     "output_type": "stream",
     "text": [
      "Vendor:  Continuum Analytics, Inc.\n",
      "Package: mkl\n",
      "Message: trial mode expires in 30 days\n"
     ]
    }
   ],
   "source": [
    "from numba import cuda\n",
    "print cuda.gpus"
   ]
  },
  {
   "cell_type": "markdown",
   "metadata": {},
   "source": [
    "If you do not have a CUDA-enabled GPU on your system, you will receive the following error:"
   ]
  },
  {
   "cell_type": "raw",
   "metadata": {},
   "source": [
    "CudaSupportError: Error at driver init: \n",
    "[3] Call to cuInit results in CUDA_ERROR_NOT_INITIALIZED:"
   ]
  },
  {
   "cell_type": "markdown",
   "metadata": {},
   "source": [
    "If you do have a CUDA-enabled GPU on your system, you should see a message like:"
   ]
  },
  {
   "cell_type": "raw",
   "metadata": {},
   "source": [
    "<Managed Device 0>"
   ]
  },
  {
   "cell_type": "markdown",
   "metadata": {},
   "source": [
    "If your machine has multiple GPUs, you might want to select which one to use. By default the CUDA driver selects the fastest GPU as the device 0, which is the default device used by Numba."
   ]
  },
  {
   "cell_type": "markdown",
   "metadata": {},
   "source": [
    "**`numba.cuda.select_device(`** ***`device_id`*** **`)`**\n",
    "\n",
    "Create a new CUDA context for the selected `device_id`. `device_id` should be the number of the device (starting from 0; the device order is determined by the CUDA libraries). The context is associated with the current thread. Numba currently allows only one context per thread."
   ]
  },
  {
   "cell_type": "markdown",
   "metadata": {},
   "source": [
    "## Using the CUDA simulator"
   ]
  },
  {
   "cell_type": "markdown",
   "metadata": {},
   "source": [
    "If you don't have a CUDA-enabled GPU, then you will need to use the CUDA simulator. The simulator is enabled by setting the environment variable `NUMBA_ENABLE_CUDASIM` to `1`."
   ]
  },
  {
   "cell_type": "markdown",
   "metadata": {},
   "source": [
    "### Mac/Linux"
   ]
  },
  {
   "cell_type": "markdown",
   "metadata": {},
   "source": [
    "Launch a terminal shell and type the commands:"
   ]
  },
  {
   "cell_type": "raw",
   "metadata": {},
   "source": [
    "export NUMBA_ENABLE_CUDASIM=1\n",
    "jupyter notebook"
   ]
  },
  {
   "cell_type": "markdown",
   "metadata": {},
   "source": [
    "### Windows"
   ]
  },
  {
   "cell_type": "markdown",
   "metadata": {},
   "source": [
    "Launch a `CMD` shell and type the commands:"
   ]
  },
  {
   "cell_type": "raw",
   "metadata": {},
   "source": [
    "SET NUMBA_ENABLE_CUDASIM=1\n",
    "jupyter notebook"
   ]
  },
  {
   "cell_type": "markdown",
   "metadata": {},
   "source": [
    "<div class=\"alert alert-success\">\n",
    "Now rerun the Device List command and check that you get the correct output.\n",
    "</div>"
   ]
  },
  {
   "cell_type": "markdown",
   "metadata": {},
   "source": [
    "## Writing CUDA kernels"
   ]
  },
  {
   "cell_type": "markdown",
   "metadata": {},
   "source": [
    "CUDA has an execution model unlike the traditional sequential model used for programming CPUs. In CUDA, the code you write will be executed by multiple threads at once (often hundreds or thousands). Your solution will be modeled by defining a thread hierarchy of ***grid***, ***blocks***, and ***threads***.\n",
    "\n",
    "Numba also exposes three kinds of GPU memory: \n",
    "- ***global device memory***\n",
    "- ***shared memory***\n",
    "- ***local memory***\n",
    "\n",
    "For all but the simplest algorithms, it is important that you carefully consider how to use and access memory in order to minimize bandwidth requirements and contention."
   ]
  },
  {
   "cell_type": "markdown",
   "metadata": {},
   "source": [
    "NVIDIA recommends that programmers focus on following those recommendations to achieve the best performance:\n",
    " \n",
    "- Find ways to parallelize sequential code,\n",
    "- Minimize data transfers between the host and the device,\n",
    "- Adjust kernel launch configuration to maximize device utilization,\n",
    "- Ensure global memory accesses are coalesced,\n",
    "- Minimize redundant accesses to global memory whenever possible,\n",
    "- Avoid different execution paths within the same warp."
   ]
  },
  {
   "cell_type": "markdown",
   "metadata": {},
   "source": [
    "## Kernel declaration"
   ]
  },
  {
   "cell_type": "markdown",
   "metadata": {},
   "source": [
    "A kernel function is a GPU function that is meant to be called from CPU code. It has two fundamental characteristics:\n",
    "\n",
    "- kernels cannot explicitly return a value; all result data must be written to an array passed to the function (if computing a scalar, you will probably pass a one-element array);\n",
    "- kernels explicitly declare their thread hierarchy when called: i.e. the number of thread blocks and the number of threads per block (note that while a kernel is compiled once, it can be called multiple times with different block sizes or grid sizes)."
   ]
  },
  {
   "cell_type": "code",
   "execution_count": 2,
   "metadata": {
    "collapsed": true
   },
   "outputs": [],
   "source": [
    "from numba import cuda\n",
    "@cuda.jit\n",
    "def my_kernel(io_array):\n",
    "    \"\"\"\n",
    "    Code for kernel.\n",
    "    \"\"\"\n",
    "    # code here"
   ]
  },
  {
   "cell_type": "markdown",
   "metadata": {},
   "source": [
    "## Kernel invocation"
   ]
  },
  {
   "cell_type": "markdown",
   "metadata": {},
   "source": [
    "A kernel is typically launched in the following way:"
   ]
  },
  {
   "cell_type": "code",
   "execution_count": 3,
   "metadata": {
    "collapsed": false
   },
   "outputs": [
    {
     "name": "stdout",
     "output_type": "stream",
     "text": [
      "[ 1.  1.  1.  1.  1.  1.  1.  1.  1.  1.  1.  1.  1.  1.  1.  1.  1.  1.\n",
      "  1.  1.  1.  1.  1.  1.  1.  1.  1.  1.  1.  1.  1.  1.  1.  1.  1.  1.\n",
      "  1.  1.  1.  1.  1.  1.  1.  1.  1.  1.  1.  1.  1.  1.  1.  1.  1.  1.\n",
      "  1.  1.  1.  1.  1.  1.  1.  1.  1.  1.  1.  1.  1.  1.  1.  1.  1.  1.\n",
      "  1.  1.  1.  1.  1.  1.  1.  1.  1.  1.  1.  1.  1.  1.  1.  1.  1.  1.\n",
      "  1.  1.  1.  1.  1.  1.  1.  1.  1.  1.  1.  1.  1.  1.  1.  1.  1.  1.\n",
      "  1.  1.  1.  1.  1.  1.  1.  1.  1.  1.  1.  1.  1.  1.  1.  1.  1.  1.\n",
      "  1.  1.  1.  1.  1.  1.  1.  1.  1.  1.  1.  1.  1.  1.  1.  1.  1.  1.\n",
      "  1.  1.  1.  1.  1.  1.  1.  1.  1.  1.  1.  1.  1.  1.  1.  1.  1.  1.\n",
      "  1.  1.  1.  1.  1.  1.  1.  1.  1.  1.  1.  1.  1.  1.  1.  1.  1.  1.\n",
      "  1.  1.  1.  1.  1.  1.  1.  1.  1.  1.  1.  1.  1.  1.  1.  1.  1.  1.\n",
      "  1.  1.  1.  1.  1.  1.  1.  1.  1.  1.  1.  1.  1.  1.  1.  1.  1.  1.\n",
      "  1.  1.  1.  1.  1.  1.  1.  1.  1.  1.  1.  1.  1.  1.  1.  1.  1.  1.\n",
      "  1.  1.  1.  1.  1.  1.  1.  1.  1.  1.  1.  1.  1.  1.  1.  1.  1.  1.\n",
      "  1.  1.  1.  1.]\n"
     ]
    }
   ],
   "source": [
    "import numpy\n",
    "\n",
    "# Create the data array - usually initialized some other way\n",
    "data = numpy.ones(256)\n",
    "\n",
    "# Set the number of threads in a block\n",
    "threadsperblock = 32 \n",
    "\n",
    "# Calculate the number of thread blocks in the grid\n",
    "blockspergrid = (data.size + (threadsperblock - 1)) // threadsperblock\n",
    "\n",
    "# Now start the kernel\n",
    "my_kernel[blockspergrid, threadsperblock](data)\n",
    "\n",
    "# Print the result\n",
    "print data"
   ]
  },
  {
   "cell_type": "markdown",
   "metadata": {},
   "source": [
    "There are two main steps:\n",
    "\n",
    "1. Instantiate the kernel proper, by specifying a number of **blocks per grid** and a number of **threads per block**. The product of the two will give the total number of threads launched. Kernel instantiation is done by taking the compiled kernel function and indexing it with a tuple of integers.\n",
    "2. Running the kernel, by passing it the input array (and any separate output arrays if necessary). By default, running a kernel is synchronous: the function returns when the kernel has finished executing and the data is synchronized back."
   ]
  },
  {
   "cell_type": "markdown",
   "metadata": {},
   "source": [
    "### Choosing the block size"
   ]
  },
  {
   "cell_type": "markdown",
   "metadata": {},
   "source": [
    "The two-level thread hierarchy is important for the following reasons:\n",
    "\n",
    "- On the software side, the block size determines how many threads share a given area of shared memory.\n",
    "- On the hardware side, the block size must be large enough for full occupation of execution units; recommendations can be found in the CUDA C Programming Guide."
   ]
  },
  {
   "cell_type": "markdown",
   "metadata": {},
   "source": [
    "The block size you choose depends on a range of factors, including:\n",
    "- The size of the data array\n",
    "- The size of the shared mempory per block (e.g. 64KB)\n",
    "- The maximum number of threads per block supported by the hardware (e.g. 512 or 1024)\n",
    "- The maximum number of threads per multiprocessor (MP) (e.g. 2048)\n",
    "- The maximum number of blocks per MP (e.g. 32)\n",
    "- The number of threads that can be executed concurrently (a \"warp\" i.e. 32)"
   ]
  },
  {
   "cell_type": "markdown",
   "metadata": {},
   "source": [
    "The execution of threads in a warp has a big effect on the computational throughput. If all threads in a warp are executing the same instruction then they can all be executed in parallel. But if one or more threads is executing a different instruction, the warp has to be split into groups of threads, and these groups execute serially."
   ]
  },
  {
   "cell_type": "markdown",
   "metadata": {},
   "source": [
    "Rules of thumb for threads per block:\n",
    "- Should be a round multiple of the warp size (32)\n",
    "- A good place to start is 128-512 but benchmarking is required to determine the optimal value.\n",
    "\n",
    "Each streaming multiprocessor (SP) on the GPU must have enough active warps to achieve maximum throughput. In other words, the blocksize is usually selected to maximize the \"occupancy\". See the [CUDA Occupancy Calculator spreadsheet](http://developer.download.nvidia.com/compute/cuda/CUDA_Occupancy_calculator.xls) for more details."
   ]
  },
  {
   "cell_type": "markdown",
   "metadata": {},
   "source": [
    "## Thread positioning"
   ]
  },
  {
   "cell_type": "markdown",
   "metadata": {},
   "source": [
    "When running a kernel, the kernel function’s code is executed by every thread once. It therefore has to know which thread it is in, in order to know which array element(s) it is responsible for (complex algorithms may define more complex responsibilities, but the underlying principle is the same)."
   ]
  },
  {
   "cell_type": "markdown",
   "metadata": {},
   "source": [
    "To help deal with multi-dimensional arrays, CUDA allows you to specify multi-dimensional blocks and grids. In the example above, you could make `blockspergrid` and `threadsperblock` tuples of one, two or three integers. Compared to 1-dimensional declarations of equivalent sizes, this doesn’t change anything to the efficiency or behaviour of generated code, but can help you write your algorithms in a more natural way."
   ]
  },
  {
   "cell_type": "markdown",
   "metadata": {},
   "source": [
    "One way is for the thread to determines its position in the grid and block and manually compute the corresponding array position:"
   ]
  },
  {
   "cell_type": "code",
   "execution_count": 4,
   "metadata": {
    "collapsed": true
   },
   "outputs": [],
   "source": [
    "from numba import cuda\n",
    "@cuda.jit\n",
    "def my_kernel(io_array):\n",
    "    # Thread id in a 1D block\n",
    "    tx = cuda.threadIdx.x\n",
    "    # Block id in a 1D grid\n",
    "    ty = cuda.blockIdx.x\n",
    "    # Block width, i.e. number of threads per block\n",
    "    bw = cuda.blockDim.x\n",
    "    # Compute flattened index inside the array\n",
    "    pos = tx + ty * bw\n",
    "    if pos < io_array.size:  # Check array boundaries\n",
    "        io_array[pos] *= 2 # do the computation"
   ]
  },
  {
   "cell_type": "markdown",
   "metadata": {},
   "source": [
    "<div class=\"alert alert-warning\">\n",
    "Note: Unless you are sure the block size and grid size is a divisor of your array size, you must check boundaries as shown above.\n",
    "</div>"
   ]
  },
  {
   "cell_type": "markdown",
   "metadata": {},
   "source": [
    "The following special objects are provided by the CUDA backend for the sole purpose of knowing the geometry of the thread hierarchy and the position of the current thread within that geometry:\n",
    "\n",
    "- **`numba.cuda.threadIdx`** - The thread indices in the current thread block. For 1-dimensional blocks, the index (given by the x attribute) is an integer spanning the range from 0 to `numba.cuda.blockDim - 1`. A similar rule exists for each dimension when more than one dimension is used.\n",
    "- **`numba.cuda.blockDim`** - The shape of the block of threads, as declared when instantiating the kernel. This value is the same for all threads in a given kernel, even if they belong to different blocks (i.e. each block is “full”).\n",
    "- **`numba.cuda.blockIdx`** - The block indices in the grid of threads launched a kernel. For a 1-dimensional grid, the index (given by the x attribute) is an integer spanning the range from 0 to `numba.cuda.gridDim - 1`. A similar rule exists for each dimension when more than one dimension is used.\n",
    "- **`numba.cuda.gridDim`** - The shape of the grid of blocks, i.e. the total number of blocks launched by this kernel invocation, as declared when instantiating the kernel.\n",
    "\n",
    "These objects can be 1-, 2- or 3-dimensional, depending on how the kernel was invoked. To access the value at each dimension, use the x, y and z attributes of these objects, respectively."
   ]
  },
  {
   "cell_type": "markdown",
   "metadata": {},
   "source": [
    "### Absolute positions"
   ]
  },
  {
   "cell_type": "markdown",
   "metadata": {},
   "source": [
    "Simple algorithms will tend to always use thread indices in the same way as shown in the example above. Numba provides additional facilities to automate such calculations:\n",
    "\n",
    "- **`numba.cuda.grid(ndim)`** - Return the absolute position of the current thread in the entire grid of blocks. `ndim` should correspond to the number of dimensions declared when instantiating the kernel. If `ndim` is 1, a single integer is returned. If `ndim` is 2 or 3, a tuple of the given number of integers is returned.\n",
    "\n",
    "- **`numba.cuda.gridsize(ndim)`** - Return the absolute size (or shape) in threads of the entire grid of blocks. `ndim` has the same meaning as in `grid()` above."
   ]
  },
  {
   "cell_type": "markdown",
   "metadata": {},
   "source": [
    "Using these functions, the our example can become:"
   ]
  },
  {
   "cell_type": "code",
   "execution_count": 5,
   "metadata": {
    "collapsed": false
   },
   "outputs": [],
   "source": [
    "from numba import cuda\n",
    "@cuda.jit\n",
    "def my_kernel2(io_array):\n",
    "    pos = cuda.grid(1)\n",
    "    if pos < io_array.size:\n",
    "        io_array[pos] *= 2 # do the computation"
   ]
  },
  {
   "cell_type": "markdown",
   "metadata": {},
   "source": [
    "<div class=\"alert alert-success\">\n",
    "Now we can run the host code that calls the kernel. Notice that the grid computation when instantiating the kernel must still be done manually.\n",
    "</div>"
   ]
  },
  {
   "cell_type": "code",
   "execution_count": 9,
   "metadata": {
    "collapsed": false
   },
   "outputs": [
    {
     "name": "stdout",
     "output_type": "stream",
     "text": [
      "[ 2.  2.  2.  2.  2.  2.  2.  2.  2.  2.  2.  2.  2.  2.  2.  2.  2.  2.\n",
      "  2.  2.  2.  2.  2.  2.  2.  2.  2.  2.  2.  2.  2.  2.  2.  2.  2.  2.\n",
      "  2.  2.  2.  2.  2.  2.  2.  2.  2.  2.  2.  2.  2.  2.  2.  2.  2.  2.\n",
      "  2.  2.  2.  2.  2.  2.  2.  2.  2.  2.  2.  2.  2.  2.  2.  2.  2.  2.\n",
      "  2.  2.  2.  2.  2.  2.  2.  2.  2.  2.  2.  2.  2.  2.  2.  2.  2.  2.\n",
      "  2.  2.  2.  2.  2.  2.  2.  2.  2.  2.  2.  2.  2.  2.  2.  2.  2.  2.\n",
      "  2.  2.  2.  2.  2.  2.  2.  2.  2.  2.  2.  2.  2.  2.  2.  2.  2.  2.\n",
      "  2.  2.  2.  2.  2.  2.  2.  2.  2.  2.  2.  2.  2.  2.  2.  2.  2.  2.\n",
      "  2.  2.  2.  2.  2.  2.  2.  2.  2.  2.  2.  2.  2.  2.  2.  2.  2.  2.\n",
      "  2.  2.  2.  2.  2.  2.  2.  2.  2.  2.  2.  2.  2.  2.  2.  2.  2.  2.\n",
      "  2.  2.  2.  2.  2.  2.  2.  2.  2.  2.  2.  2.  2.  2.  2.  2.  2.  2.\n",
      "  2.  2.  2.  2.  2.  2.  2.  2.  2.  2.  2.  2.  2.  2.  2.  2.  2.  2.\n",
      "  2.  2.  2.  2.  2.  2.  2.  2.  2.  2.  2.  2.  2.  2.  2.  2.  2.  2.\n",
      "  2.  2.  2.  2.  2.  2.  2.  2.  2.  2.  2.  2.  2.  2.  2.  2.  2.  2.\n",
      "  2.  2.  2.  2.]\n"
     ]
    }
   ],
   "source": [
    "from __future__ import division\n",
    "import numpy\n",
    "import math\n",
    "\n",
    "data = numpy.ones(256)\n",
    "threadsperblock = 256\n",
    "blockspergrid = math.ceil(data.shape[0] / threadsperblock)\n",
    "my_kernel2[blockspergrid, threadsperblock](data)\n",
    "print data"
   ]
  },
  {
   "cell_type": "markdown",
   "metadata": {},
   "source": [
    "<div class=\"alert alert-success\">\n",
    "Assuming that `x, y = cuda.grid(2)` returns the thread indices, rewrite the kernel to work if `io_array` is a 2-dimensional array. Make sure that you verify that `x` and `y` are within the bounds of the array.\n",
    "</div>"
   ]
  },
  {
   "cell_type": "code",
   "execution_count": 34,
   "metadata": {
    "collapsed": false,
    "deletable": false,
    "nbgrader": {
     "checksum": "0928cfb1727cf653e202fc53ef3b6c2f",
     "grade": true,
     "grade_id": "cuda1",
     "locked": false,
     "points": 1,
     "solution": true
    }
   },
   "outputs": [],
   "source": [
    "from numba import cuda\n",
    "@cuda.jit\n",
    "def my_kernel_2D(io_array):\n",
    "    s0 = numpy.shape(data)[0]\n",
    "    s1 = numpy.shape(data)[1]\n",
    "    x, y = cuda.grid(2)\n",
    "    if x < s0 and y < s1:\n",
    "        io_array[x, y] *= 2"
   ]
  },
  {
   "cell_type": "markdown",
   "metadata": {},
   "source": [
    "<div class=\"alert alert-success\">\n",
    "Now run the kernel using the following host program.\n",
    "</div>"
   ]
  },
  {
   "cell_type": "code",
   "execution_count": 35,
   "metadata": {
    "collapsed": false
   },
   "outputs": [
    {
     "name": "stdout",
     "output_type": "stream",
     "text": [
      "[[ 2.  2.  2.  2.  2.  2.  2.  2.  2.  2.  2.  2.  2.  2.  2.  2.]\n",
      " [ 2.  2.  2.  2.  2.  2.  2.  2.  2.  2.  2.  2.  2.  2.  2.  2.]\n",
      " [ 2.  2.  2.  2.  2.  2.  2.  2.  2.  2.  2.  2.  2.  2.  2.  2.]\n",
      " [ 2.  2.  2.  2.  2.  2.  2.  2.  2.  2.  2.  2.  2.  2.  2.  2.]\n",
      " [ 2.  2.  2.  2.  2.  2.  2.  2.  2.  2.  2.  2.  2.  2.  2.  2.]\n",
      " [ 2.  2.  2.  2.  2.  2.  2.  2.  2.  2.  2.  2.  2.  2.  2.  2.]\n",
      " [ 2.  2.  2.  2.  2.  2.  2.  2.  2.  2.  2.  2.  2.  2.  2.  2.]\n",
      " [ 2.  2.  2.  2.  2.  2.  2.  2.  2.  2.  2.  2.  2.  2.  2.  2.]\n",
      " [ 2.  2.  2.  2.  2.  2.  2.  2.  2.  2.  2.  2.  2.  2.  2.  2.]\n",
      " [ 2.  2.  2.  2.  2.  2.  2.  2.  2.  2.  2.  2.  2.  2.  2.  2.]\n",
      " [ 2.  2.  2.  2.  2.  2.  2.  2.  2.  2.  2.  2.  2.  2.  2.  2.]\n",
      " [ 2.  2.  2.  2.  2.  2.  2.  2.  2.  2.  2.  2.  2.  2.  2.  2.]\n",
      " [ 2.  2.  2.  2.  2.  2.  2.  2.  2.  2.  2.  2.  2.  2.  2.  2.]\n",
      " [ 2.  2.  2.  2.  2.  2.  2.  2.  2.  2.  2.  2.  2.  2.  2.  2.]\n",
      " [ 2.  2.  2.  2.  2.  2.  2.  2.  2.  2.  2.  2.  2.  2.  2.  2.]\n",
      " [ 2.  2.  2.  2.  2.  2.  2.  2.  2.  2.  2.  2.  2.  2.  2.  2.]]\n"
     ]
    }
   ],
   "source": [
    "from __future__ import division\n",
    "\n",
    "import numpy\n",
    "import math\n",
    "\n",
    "data = numpy.ones((16, 16))\n",
    "threadsperblock = (16, 16)\n",
    "blockspergrid_x = math.ceil(data.shape[0] / threadsperblock[0])\n",
    "blockspergrid_y = math.ceil(data.shape[1] / threadsperblock[1])\n",
    "blockspergrid = (blockspergrid_x, blockspergrid_y)\n",
    "my_kernel_2D[blockspergrid, threadsperblock](data)\n",
    "print data"
   ]
  },
  {
   "cell_type": "markdown",
   "metadata": {},
   "source": [
    "## Memory management"
   ]
  },
  {
   "cell_type": "markdown",
   "metadata": {},
   "source": [
    "Numba has been automatically transferring the NumPy arrays to the device when you invoke the kernel. However, it can only do so conservatively by always transferring the device memory back to the host when a kernel finishes. To avoid the unnecessary transfer for read-only arrays, it is possible to manually control the transfer."
   ]
  },
  {
   "cell_type": "markdown",
   "metadata": {},
   "source": [
    "**`device_array = cuda.device_array(`** ***`shape`*** **`)`**\n",
    "\n",
    "Allocate an empty device ndarray. Similar to `numpy.empty()`."
   ]
  },
  {
   "cell_type": "markdown",
   "metadata": {},
   "source": [
    "**`device_array = cuda.to_device(`** ***`array`*** **`)`**\n",
    "\n",
    "Allocate and transfer a NumPy ndarray to the device."
   ]
  },
  {
   "cell_type": "markdown",
   "metadata": {},
   "source": [
    "### A more complex example: matrix multiplication"
   ]
  },
  {
   "cell_type": "markdown",
   "metadata": {},
   "source": [
    "The following code sample is a straightforward implementation of matrix multiplication for matrices where each thread reads one row of `A` and one column of `B` and computes the corresponding element of `C`."
   ]
  },
  {
   "cell_type": "markdown",
   "metadata": {},
   "source": [
    "![](http://drive.google.com/uc?export=view&id=0B_3lImS7uRMgbmMxMTVaN0pDWGc)"
   ]
  },
  {
   "cell_type": "code",
   "execution_count": 36,
   "metadata": {
    "collapsed": true
   },
   "outputs": [],
   "source": [
    "@cuda.jit\n",
    "def matmul(A, B, C):\n",
    "    \"\"\"Perform matrix multiplication of C = A * B\n",
    "    \"\"\"\n",
    "    row, col = cuda.grid(2)\n",
    "    if row < C.shape[0] and col < C.shape[1]:\n",
    "        tmp = 0.\n",
    "        for k in range(A.shape[1]):\n",
    "            tmp += A[row, k] * B[k, col]\n",
    "        C[row, col] = tmp"
   ]
  },
  {
   "cell_type": "markdown",
   "metadata": {},
   "source": [
    "<div class=\"alert alert-success\">\n",
    "Run the host code to see how the kernel works for the input arrays. Notice that the number of threads per block and blocks per grid is not really important, other than to ensure that there are enough threads to complete the calcualtion.\n",
    "</div>"
   ]
  },
  {
   "cell_type": "code",
   "execution_count": 41,
   "metadata": {
    "collapsed": false,
    "scrolled": true
   },
   "outputs": [
    {
     "name": "stdout",
     "output_type": "stream",
     "text": [
      "[[ 144.  144.  144.  144.  144.  144.  144.  144.  144.  144.  144.  144.\n",
      "   144.  144.  144.  144.  144.  144.  144.  144.  144.  144.]\n",
      " [ 144.  144.  144.  144.  144.  144.  144.  144.  144.  144.  144.  144.\n",
      "   144.  144.  144.  144.  144.  144.  144.  144.  144.  144.]\n",
      " [ 144.  144.  144.  144.  144.  144.  144.  144.  144.  144.  144.  144.\n",
      "   144.  144.  144.  144.  144.  144.  144.  144.  144.  144.]\n",
      " [ 144.  144.  144.  144.  144.  144.  144.  144.  144.  144.  144.  144.\n",
      "   144.  144.  144.  144.  144.  144.  144.  144.  144.  144.]\n",
      " [ 144.  144.  144.  144.  144.  144.  144.  144.  144.  144.  144.  144.\n",
      "   144.  144.  144.  144.  144.  144.  144.  144.  144.  144.]\n",
      " [ 144.  144.  144.  144.  144.  144.  144.  144.  144.  144.  144.  144.\n",
      "   144.  144.  144.  144.  144.  144.  144.  144.  144.  144.]\n",
      " [ 144.  144.  144.  144.  144.  144.  144.  144.  144.  144.  144.  144.\n",
      "   144.  144.  144.  144.  144.  144.  144.  144.  144.  144.]\n",
      " [ 144.  144.  144.  144.  144.  144.  144.  144.  144.  144.  144.  144.\n",
      "   144.  144.  144.  144.  144.  144.  144.  144.  144.  144.]\n",
      " [ 144.  144.  144.  144.  144.  144.  144.  144.  144.  144.  144.  144.\n",
      "   144.  144.  144.  144.  144.  144.  144.  144.  144.  144.]\n",
      " [ 144.  144.  144.  144.  144.  144.  144.  144.  144.  144.  144.  144.\n",
      "   144.  144.  144.  144.  144.  144.  144.  144.  144.  144.]\n",
      " [ 144.  144.  144.  144.  144.  144.  144.  144.  144.  144.  144.  144.\n",
      "   144.  144.  144.  144.  144.  144.  144.  144.  144.  144.]\n",
      " [ 144.  144.  144.  144.  144.  144.  144.  144.  144.  144.  144.  144.\n",
      "   144.  144.  144.  144.  144.  144.  144.  144.  144.  144.]\n",
      " [ 144.  144.  144.  144.  144.  144.  144.  144.  144.  144.  144.  144.\n",
      "   144.  144.  144.  144.  144.  144.  144.  144.  144.  144.]\n",
      " [ 144.  144.  144.  144.  144.  144.  144.  144.  144.  144.  144.  144.\n",
      "   144.  144.  144.  144.  144.  144.  144.  144.  144.  144.]\n",
      " [ 144.  144.  144.  144.  144.  144.  144.  144.  144.  144.  144.  144.\n",
      "   144.  144.  144.  144.  144.  144.  144.  144.  144.  144.]\n",
      " [ 144.  144.  144.  144.  144.  144.  144.  144.  144.  144.  144.  144.\n",
      "   144.  144.  144.  144.  144.  144.  144.  144.  144.  144.]\n",
      " [ 144.  144.  144.  144.  144.  144.  144.  144.  144.  144.  144.  144.\n",
      "   144.  144.  144.  144.  144.  144.  144.  144.  144.  144.]\n",
      " [ 144.  144.  144.  144.  144.  144.  144.  144.  144.  144.  144.  144.\n",
      "   144.  144.  144.  144.  144.  144.  144.  144.  144.  144.]\n",
      " [ 144.  144.  144.  144.  144.  144.  144.  144.  144.  144.  144.  144.\n",
      "   144.  144.  144.  144.  144.  144.  144.  144.  144.  144.]\n",
      " [ 144.  144.  144.  144.  144.  144.  144.  144.  144.  144.  144.  144.\n",
      "   144.  144.  144.  144.  144.  144.  144.  144.  144.  144.]\n",
      " [ 144.  144.  144.  144.  144.  144.  144.  144.  144.  144.  144.  144.\n",
      "   144.  144.  144.  144.  144.  144.  144.  144.  144.  144.]\n",
      " [ 144.  144.  144.  144.  144.  144.  144.  144.  144.  144.  144.  144.\n",
      "   144.  144.  144.  144.  144.  144.  144.  144.  144.  144.]\n",
      " [ 144.  144.  144.  144.  144.  144.  144.  144.  144.  144.  144.  144.\n",
      "   144.  144.  144.  144.  144.  144.  144.  144.  144.  144.]\n",
      " [ 144.  144.  144.  144.  144.  144.  144.  144.  144.  144.  144.  144.\n",
      "   144.  144.  144.  144.  144.  144.  144.  144.  144.  144.]]\n"
     ]
    }
   ],
   "source": [
    "from __future__ import division\n",
    "\n",
    "import numpy\n",
    "import math\n",
    "\n",
    "# The data array\n",
    "mat1 = numpy.full((24, 12), 3, numpy.float) # matrix containing all 3's\n",
    "mat2 = numpy.full((12, 22), 4, numpy.float) # matrix containing all 4's\n",
    "\n",
    "d_mat1 = cuda.to_device(mat1)\n",
    "d_mat2 = cuda.to_device(mat2)\n",
    "d_mat3 = cuda.device_array((24, 22))\n",
    "\n",
    "# Configure the blocks\n",
    "\n",
    "##### Extra Credit#####\n",
    "threadsperblock = (16, 16)\n",
    "blockspergrid_x = int(math.ceil(mat1.shape[0] / threadsperblock[1]))\n",
    "blockspergrid_y = int(math.ceil(mat2.shape[1] / threadsperblock[0]))\n",
    "blockspergrid = (blockspergrid_x, blockspergrid_y)\n",
    "\n",
    "# Start the kernel \n",
    "matmul[blockspergrid, threadsperblock](d_mat1, d_mat2, d_mat3)\n",
    "res = d_mat3.copy_to_host()\n",
    "\n",
    "print res"
   ]
  },
  {
   "cell_type": "markdown",
   "metadata": {},
   "source": [
    "<div class=\"alert alert-warning\">\n",
    "A problem with this code is that each thread is reading from the global memory containing `A` and `B`. In fact, `A` is read `B.shape[1]` times and `B` in read `A.shape[0]` times. Since global memory is fairly slow, this results in an inefficient use of the GPU.\n",
    "</div>"
   ]
  },
  {
   "cell_type": "markdown",
   "metadata": {},
   "source": [
    "### Shared memory and thread synchronization"
   ]
  },
  {
   "cell_type": "markdown",
   "metadata": {},
   "source": [
    "A limited amount of shared memory can be allocated on the device to speed up access to data, when necessary. That memory will be shared (i.e. both readable and writable) amongst all threads belonging to a given block and has faster access times than regular device memory. It also allows threads to cooperate on a given solution. You can think of it as a manually-managed data cache.\n",
    "\n",
    "The function to create a shared memory array is:"
   ]
  },
  {
   "cell_type": "markdown",
   "metadata": {},
   "source": [
    "**`shared_array = cuda.shared.array(`*`shape`*`, `*`type`*`)`**"
   ]
  },
  {
   "cell_type": "markdown",
   "metadata": {},
   "source": [
    "- `shape` is either an integer or a tuple of integers representing the array’s dimensions.\n",
    "- `type` is a [Numba type](http://numba.pydata.org/numba-doc/dev/reference/types.html#numba-types) of the elements needing to be stored in the array\n",
    "\n",
    "The memory is allocated once for the duration of the kernel, unlike traditional dynamic memory management."
   ]
  },
  {
   "cell_type": "markdown",
   "metadata": {},
   "source": [
    "Because the shared memory is a limited resource, it is often necessary to preload a small block at a time from the input arrays. The threads then need to to wait until all threads have finished preloading before doing the computation on the shared memory. Synchronization is then required again after the computation to ensure all threads have finished with the data in shared memory before overwriting it in the next loop iteration."
   ]
  },
  {
   "cell_type": "markdown",
   "metadata": {},
   "source": [
    "The function to synchronized threads is:"
   ]
  },
  {
   "cell_type": "markdown",
   "metadata": {},
   "source": [
    "**`cuda.syncthreads()`**"
   ]
  },
  {
   "cell_type": "markdown",
   "metadata": {},
   "source": [
    "This function will synchronize all threads in the same thread block. This function implements the same pattern as ***barriers*** in traditional multi-threaded programming. The program will wait until all threads in the block call the function, at which point it returns control to all its callers."
   ]
  },
  {
   "cell_type": "markdown",
   "metadata": {},
   "source": [
    "### Improved matrix multiplication"
   ]
  },
  {
   "cell_type": "markdown",
   "metadata": {},
   "source": [
    "The following example shows how shared memory can be used when performing matrix multiplication. For input arrays of shape `[m x n]` and `[n x p]` the result will be `[m x p]`.\n",
    "\n",
    "In this example, each thread block is responsible for computing a square sub-matrix of `C` and each thread for computing an element of the sub-matrix. The sub-matrix is equal to the product of a square sub-matrix of `A` (`sA`) and a square sub-matrix of `B` (`sB`). In order to fit into the device resources, the two input matrices are divided into as many square sub-matrices of dimension TPB as necessary, and the result computed as the sum of the products of these square sub-matrices. \n",
    "\n",
    "Each product is performed by first loading sA and sB from global memory to shared memory, with one thread loading each element of each sub-matrix. Once sA and sB have been loaded, each thread accumulates the result into a register (`tmp`). Once all the products have been calculated, the results are written to the matrix `C` in global memory.\n",
    "\n",
    "By blocking the computation this way, we can reduce the number of global memory accesses since `A` is now only read `B.shape[1] / TPB` times and `B` is read `A.shape[0] / TPB` times."
   ]
  },
  {
   "cell_type": "markdown",
   "metadata": {},
   "source": [
    "![](http://drive.google.com/uc?export=view&id=0B_3lImS7uRMgSXdLR05XdHUyUnc)"
   ]
  },
  {
   "cell_type": "code",
   "execution_count": 45,
   "metadata": {
    "collapsed": false
   },
   "outputs": [],
   "source": [
    "from numba import cuda, float32\n",
    "\n",
    "# Controls threads per block and shared memory usage.\n",
    "# The computation will be done on blocks of TPBxTPB elements.\n",
    "TPB = 16\n",
    "\n",
    "@cuda.jit\n",
    "def fast_matmul(A, B, C):\n",
    "    \"\"\"\n",
    "    Perform matrix multiplication of C = A * B\n",
    "    Each thread computes one element of the result matrix C\n",
    "    \"\"\"\n",
    "\n",
    "    # Define an array in the shared memory\n",
    "    # The size and type of the arrays must be known at compile time\n",
    "    sA = cuda.shared.array(shape=(TPB, TPB), dtype=float32)\n",
    "    sB = cuda.shared.array(shape=(TPB, TPB), dtype=float32)\n",
    "\n",
    "    x, y = cuda.grid(2)\n",
    " \n",
    "    tx = cuda.threadIdx.x\n",
    "    ty = cuda.threadIdx.y\n",
    "\n",
    "    if x >= C.shape[0] and y >= C.shape[1]:\n",
    "        # Quit if (x, y) is outside of valid C boundary\n",
    "        return\n",
    "\n",
    "    # Each thread computes one element in the result matrix.\n",
    "    # The dot product is chunked into dot products of TPB-long vectors.\n",
    "    tmp = 0.\n",
    "    for i in range(int(A.shape[1] / TPB)):\n",
    "        # Preload data into shared memory\n",
    "        sA[tx, ty] = A[x, ty + i * TPB]\n",
    "        sB[tx, ty] = B[tx + i * TPB, y]\n",
    "\n",
    "        # Wait until all threads finish preloading\n",
    "        cuda.syncthreads()\n",
    "\n",
    "        # Computes partial product on the shared memory\n",
    "        for j in range(TPB):\n",
    "            tmp += sA[tx, j] * sB[j, ty]\n",
    "\n",
    "        # Wait until all threads finish computing\n",
    "        cuda.syncthreads()\n",
    "\n",
    "    C[x, y] = tmp"
   ]
  },
  {
   "cell_type": "markdown",
   "metadata": {},
   "source": [
    "<div class=\"alert alert-success\">\n",
    "Run your new kernel using the host program below to verify that it works correctly.\n",
    "</div>"
   ]
  },
  {
   "cell_type": "code",
   "execution_count": 47,
   "metadata": {
    "collapsed": false,
    "scrolled": true
   },
   "outputs": [
    {
     "name": "stdout",
     "output_type": "stream",
     "text": [
      "[[ 576.  576.  576.  576.  576.  576.  576.  576.  576.  576.  576.  576.\n",
      "   576.  576.  576.  576.]\n",
      " [ 576.  576.  576.  576.  576.  576.  576.  576.  576.  576.  576.  576.\n",
      "   576.  576.  576.  576.]\n",
      " [ 576.  576.  576.  576.  576.  576.  576.  576.  576.  576.  576.  576.\n",
      "   576.  576.  576.  576.]\n",
      " [ 576.  576.  576.  576.  576.  576.  576.  576.  576.  576.  576.  576.\n",
      "   576.  576.  576.  576.]\n",
      " [ 576.  576.  576.  576.  576.  576.  576.  576.  576.  576.  576.  576.\n",
      "   576.  576.  576.  576.]\n",
      " [ 576.  576.  576.  576.  576.  576.  576.  576.  576.  576.  576.  576.\n",
      "   576.  576.  576.  576.]\n",
      " [ 576.  576.  576.  576.  576.  576.  576.  576.  576.  576.  576.  576.\n",
      "   576.  576.  576.  576.]\n",
      " [ 576.  576.  576.  576.  576.  576.  576.  576.  576.  576.  576.  576.\n",
      "   576.  576.  576.  576.]\n",
      " [ 576.  576.  576.  576.  576.  576.  576.  576.  576.  576.  576.  576.\n",
      "   576.  576.  576.  576.]\n",
      " [ 576.  576.  576.  576.  576.  576.  576.  576.  576.  576.  576.  576.\n",
      "   576.  576.  576.  576.]\n",
      " [ 576.  576.  576.  576.  576.  576.  576.  576.  576.  576.  576.  576.\n",
      "   576.  576.  576.  576.]\n",
      " [ 576.  576.  576.  576.  576.  576.  576.  576.  576.  576.  576.  576.\n",
      "   576.  576.  576.  576.]\n",
      " [ 576.  576.  576.  576.  576.  576.  576.  576.  576.  576.  576.  576.\n",
      "   576.  576.  576.  576.]\n",
      " [ 576.  576.  576.  576.  576.  576.  576.  576.  576.  576.  576.  576.\n",
      "   576.  576.  576.  576.]\n",
      " [ 576.  576.  576.  576.  576.  576.  576.  576.  576.  576.  576.  576.\n",
      "   576.  576.  576.  576.]\n",
      " [ 576.  576.  576.  576.  576.  576.  576.  576.  576.  576.  576.  576.\n",
      "   576.  576.  576.  576.]\n",
      " [ 576.  576.  576.  576.  576.  576.  576.  576.  576.  576.  576.  576.\n",
      "   576.  576.  576.  576.]\n",
      " [ 576.  576.  576.  576.  576.  576.  576.  576.  576.  576.  576.  576.\n",
      "   576.  576.  576.  576.]\n",
      " [ 576.  576.  576.  576.  576.  576.  576.  576.  576.  576.  576.  576.\n",
      "   576.  576.  576.  576.]\n",
      " [ 576.  576.  576.  576.  576.  576.  576.  576.  576.  576.  576.  576.\n",
      "   576.  576.  576.  576.]\n",
      " [ 576.  576.  576.  576.  576.  576.  576.  576.  576.  576.  576.  576.\n",
      "   576.  576.  576.  576.]\n",
      " [ 576.  576.  576.  576.  576.  576.  576.  576.  576.  576.  576.  576.\n",
      "   576.  576.  576.  576.]\n",
      " [ 576.  576.  576.  576.  576.  576.  576.  576.  576.  576.  576.  576.\n",
      "   576.  576.  576.  576.]\n",
      " [ 576.  576.  576.  576.  576.  576.  576.  576.  576.  576.  576.  576.\n",
      "   576.  576.  576.  576.]\n",
      " [ 576.  576.  576.  576.  576.  576.  576.  576.  576.  576.  576.  576.\n",
      "   576.  576.  576.  576.]\n",
      " [ 576.  576.  576.  576.  576.  576.  576.  576.  576.  576.  576.  576.\n",
      "   576.  576.  576.  576.]\n",
      " [ 576.  576.  576.  576.  576.  576.  576.  576.  576.  576.  576.  576.\n",
      "   576.  576.  576.  576.]\n",
      " [ 576.  576.  576.  576.  576.  576.  576.  576.  576.  576.  576.  576.\n",
      "   576.  576.  576.  576.]\n",
      " [ 576.  576.  576.  576.  576.  576.  576.  576.  576.  576.  576.  576.\n",
      "   576.  576.  576.  576.]\n",
      " [ 576.  576.  576.  576.  576.  576.  576.  576.  576.  576.  576.  576.\n",
      "   576.  576.  576.  576.]\n",
      " [ 576.  576.  576.  576.  576.  576.  576.  576.  576.  576.  576.  576.\n",
      "   576.  576.  576.  576.]\n",
      " [ 576.  576.  576.  576.  576.  576.  576.  576.  576.  576.  576.  576.\n",
      "   576.  576.  576.  576.]]\n"
     ]
    }
   ],
   "source": [
    "from __future__ import division\n",
    "\n",
    "import numpy\n",
    "import math\n",
    "\n",
    "# The data array\n",
    "mat1 = numpy.full((TPB*2, TPB*3), 3, numpy.float) # [32 x 48] matrix containing all 3's\n",
    "mat2 = numpy.full((TPB*3, TPB*1), 4, numpy.float) # [48 x 16] matrix containing all 4's\n",
    "\n",
    "d_mat1 = cuda.to_device(mat1)\n",
    "d_mat2 = cuda.to_device(mat2)\n",
    "d_mat3 = cuda.device_array((TPB*2, TPB*1)) # [32 x 16] matrix result\n",
    "\n",
    "# Configure the blocks\n",
    "threadsperblock = (TPB, TPB)\n",
    "blockspergrid_x = int(math.ceil(mat1.shape[0] / threadsperblock[1]))\n",
    "blockspergrid_y = int(math.ceil(mat2.shape[1] / threadsperblock[0]))\n",
    "blockspergrid = (blockspergrid_x, blockspergrid_y)\n",
    "\n",
    "# Start the kernel \n",
    "fast_matmul[blockspergrid, threadsperblock](d_mat1, d_mat2, d_mat3)\n",
    "res = d_mat3.copy_to_host()\n",
    "\n",
    "print res"
   ]
  },
  {
   "cell_type": "markdown",
   "metadata": {},
   "source": [
    "## Exercise"
   ]
  },
  {
   "cell_type": "markdown",
   "metadata": {},
   "source": [
    "The following program is the familar computation of the Mandelbrot fractal."
   ]
  },
  {
   "cell_type": "code",
   "execution_count": 49,
   "metadata": {
    "collapsed": false
   },
   "outputs": [
    {
     "name": "stdout",
     "output_type": "stream",
     "text": [
      "Populating the interactive namespace from numpy and matplotlib\n"
     ]
    },
    {
     "name": "stderr",
     "output_type": "stream",
     "text": [
      "WARNING: pylab import has clobbered these variables: ['matmul', 'float32']\n",
      "`%matplotlib` prevents importing * from pylab and numpy\n"
     ]
    }
   ],
   "source": [
    "%pylab inline"
   ]
  },
  {
   "cell_type": "code",
   "execution_count": 50,
   "metadata": {
    "collapsed": false
   },
   "outputs": [
    {
     "data": {
      "image/png": "[encoded data removed]",
      "text/plain": [
       "<matplotlib.figure.Figure at 0x10ef8acd0>"
      ]
     },
     "metadata": {},
     "output_type": "display_data"
    }
   ],
   "source": [
    "import numpy as np\n",
    "from pylab import imshow, show\n",
    "\n",
    "def mandel(x, y, max_iters):\n",
    "    \"\"\"\n",
    "    Given the real and imaginary parts of a complex number,\n",
    "    determine if it is a candidate for membership in the Mandelbrot\n",
    "    set given a fixed number of iterations.\n",
    "    \"\"\"\n",
    "    c = complex(x, y)\n",
    "    z = 0.0j\n",
    "    for i in range(max_iters):\n",
    "        z = z*z + c\n",
    "        if (z.real*z.real + z.imag*z.imag) >= 4:\n",
    "            return i\n",
    "\n",
    "    return max_iters\n",
    "\n",
    "def compute_mandel(min_x, max_x, min_y, max_y, image, iters):\n",
    "    height = image.shape[0]\n",
    "    width = image.shape[1]\n",
    "\n",
    "    pixel_size_x = (max_x - min_x) / width\n",
    "    pixel_size_y = (max_y - min_y) / height\n",
    "    \n",
    "    for x in range(width):\n",
    "        real = min_x + x * pixel_size_x\n",
    "        for y in range(height):\n",
    "            imag = min_y + y * pixel_size_y\n",
    "            image[y, x] = mandel(real, imag, iters)\n",
    "            \n",
    "image = np.zeros((1024, 1536), dtype = np.uint8)\n",
    "compute_mandel(-2.0, 1.0, -1.0, 1.0, image, 20) \n",
    "imshow(image)\n",
    "show()"
   ]
  },
  {
   "cell_type": "markdown",
   "metadata": {},
   "source": [
    "<div class=\"alert alert-success\">\n",
    "First, modify the above code to implement the `mandel_kernel` function below. Hint: every thread should compute one value of the `image` array.\n",
    "</div>"
   ]
  },
  {
   "cell_type": "code",
   "execution_count": 70,
   "metadata": {
    "collapsed": false,
    "deletable": false,
    "nbgrader": {
     "checksum": "18c59899eb3910e73da205da0166debc",
     "grade": true,
     "grade_id": "cuda2",
     "locked": false,
     "points": 5,
     "solution": true
    }
   },
   "outputs": [],
   "source": [
    "from numba import cuda\n",
    "import numpy as np\n",
    "\n",
    "@cuda.jit\n",
    "def mandel_gpu(x, y, max_iters):\n",
    "    \"\"\"\n",
    "    Given the real and imaginary parts of a complex number,\n",
    "    determine if it is a candidate for membership in the Mandelbrot\n",
    "    set given a fixed number of iterations.\n",
    "    \"\"\"\n",
    "    c = complex(x, y)\n",
    "    z = 0.0j\n",
    "    for i in range(max_iters):\n",
    "        z = z*z + c\n",
    "        if (z.real*z.real + z.imag*z.imag) >= 4:\n",
    "            return i\n",
    "\n",
    "    return max_iters\n",
    "\n",
    "@cuda.jit\n",
    "def mandel_kernel(min_x, max_x, min_y, max_y, image, iters):\n",
    "\n",
    "    height = image.shape[0]\n",
    "    width = image.shape[1]\n",
    "\n",
    "    pixel_size_x = (max_x - min_x) / width\n",
    "    pixel_size_y = (max_y - min_y) / height\n",
    "\n",
    "    blockDimx = cuda.blockDim.x * cuda.blockIdx.x + cuda.threadIdx.x\n",
    "    blockDimy = cuda.blockDim.y * cuda.blockIdx.y + cuda.threadIdx.y\n",
    "    gridDimx = cuda.gridDim.x * cuda.blockDim.x;\n",
    "    gridDimy = cuda.gridDim.y * cuda.blockDim.y;\n",
    "\n",
    "    for x in xrange(blockDimx, width, gridDimx):\n",
    "        real = min_x + x * pixel_size_x\n",
    "        for y in xrange(blockDimy, height, gridDimy):\n",
    "            imag = min_y + y * pixel_size_y\n",
    "            image[y, x] = mandel(real, imag, iters)\n"
   ]
  },
  {
   "cell_type": "markdown",
   "metadata": {},
   "source": [
    "<div class=\"alert alert-success\">\n",
    "Verify your code works as expected using the host program below.\n",
    "</div>"
   ]
  },
  {
   "cell_type": "code",
   "execution_count": 71,
   "metadata": {
    "collapsed": false
   },
   "outputs": [
    {
     "data": {
      "image/png": "[encoded data removed]",
      "text/plain": [
       "<matplotlib.figure.Figure at 0x105e11f90>"
      ]
     },
     "metadata": {},
     "output_type": "display_data"
    }
   ],
   "source": [
    "from pylab import imshow, show\n",
    "\n",
    "gimage = np.zeros((1024, 1536), dtype = np.uint8)\n",
    "blockdim = (32, 8)\n",
    "griddim = (32,16)\n",
    "\n",
    "d_image = cuda.to_device(gimage)\n",
    "mandel_kernel[griddim, blockdim](-2.0, 1.0, -1.0, 1.0, d_image, 20) \n",
    "d_image.to_host()\n",
    "imshow(gimage)\n",
    "show()"
   ]
  },
  {
   "cell_type": "markdown",
   "metadata": {},
   "source": [
    "### Bonus marks"
   ]
  },
  {
   "cell_type": "markdown",
   "metadata": {},
   "source": [
    "<div class=\"alert alert-success\">\n",
    "Modify your answer above to use shared memory when computing the image array.\n",
    "</div>"
   ]
  },
  {
   "cell_type": "code",
   "execution_count": null,
   "metadata": {
    "collapsed": false,
    "deletable": false,
    "nbgrader": {
     "checksum": "95e82685e1a26d9623e8f96766cb27a1",
     "grade": true,
     "grade_id": "cuda3",
     "locked": false,
     "points": 3,
     "solution": true
    }
   },
   "outputs": [],
   "source": [
    "from numba import cuda\n",
    "import numpy as np\n",
    "\n",
    "@cuda.jit\n",
    "def mandel_gpu(x, y, max_iters):\n",
    "    \"\"\"\n",
    "    Given the real and imaginary parts of a complex number,\n",
    "    determine if it is a candidate for membership in the Mandelbrot\n",
    "    set given a fixed number of iterations.\n",
    "    \"\"\"\n",
    "    c = complex(x, y)\n",
    "    z = 0.0j\n",
    "    for i in range(max_iters):\n",
    "        z = z*z + c\n",
    "        if (z.real*z.real + z.imag*z.imag) >= 4:\n",
    "            return i\n",
    "\n",
    "    return max_iters\n",
    "\n",
    "@cuda.jit\n",
    "def mandel_kernel_shared(min_x, max_x, min_y, max_y, image, iters):\n",
    "    # YOUR CODE HERE\n",
    "    raise NotImplementedError()"
   ]
  },
  {
   "cell_type": "markdown",
   "metadata": {},
   "source": [
    "<div class=\"alert alert-success\">\n",
    "Verify your code works as expected using the host program below.\n",
    "</div>"
   ]
  },
  {
   "cell_type": "code",
   "execution_count": null,
   "metadata": {
    "collapsed": false
   },
   "outputs": [],
   "source": [
    "from pylab import imshow, show\n",
    "\n",
    "gimage = np.zeros((1024, 1536), dtype = np.uint8)\n",
    "blockdim = (32, 8)\n",
    "griddim = (32,16)\n",
    "\n",
    "d_image = cuda.to_device(gimage)\n",
    "mandel_kernel_shared[griddim, blockdim](-2.0, 1.0, -1.0, 1.0, d_image, 20) \n",
    "d_image.to_host()\n",
    "imshow(gimage)\n",
    "show()"
   ]
  }
 ],
 "metadata": {
  "kernelspec": {
   "display_name": "Python 2",
   "language": "python",
   "name": "python2"
  },
  "language_info": {
   "codemirror_mode": {
    "name": "ipython",
    "version": 2
   },
   "file_extension": ".py",
   "mimetype": "text/x-python",
   "name": "python",
   "nbconvert_exporter": "python",
   "pygments_lexer": "ipython2",
   "version": "2.7.11"
  }
 },
 "nbformat": 4,
 "nbformat_minor": 0
}
