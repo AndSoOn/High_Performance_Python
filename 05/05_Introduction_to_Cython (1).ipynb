{
 "cells": [
  {
   "cell_type": "markdown",
   "metadata": {},
   "source": [
    "# DS-GA-3001 Advanced Python for Data Science"
   ]
  },
  {
   "cell_type": "markdown",
   "metadata": {
    "nbgrader": {
     "grade": false,
     "solution": false
    }
   },
   "source": [
    "Before you turn this problem in, make sure you **restart the kernel** (in the menubar, select Kernel$\\rightarrow$Restart). You can then run the cells **in order**, during the class.\n",
    "\n",
    "Any textual answers that need to be provided will be marked with \"YOUR ANSWER HERE\". Replace this text with your answer to the question.\n",
    "\n",
    "Any code answers that need to be provided will be marked with:\n",
    "\n",
    "```\n",
    "# YOUR CODE HERE\n",
    "raise NotImplementedError()\n",
    "```\n",
    "\n",
    "Replace all this code with your answer to the question. If you do not answer the question, the `NotImplementedError` exception will be raised, which will indicate to the grader that no answer has been supplied.\n",
    "\n",
    "In many cases, code answers will also have some associated test code. You should execute the tests after you have entered your code in order to ensure that your answer is correct. You should not proceed to the next question until your answer is correct.\n",
    "\n",
    "Finally, insert your Net ID and the Net ID's of any collaborators in the cell below."
   ]
  },
  {
   "cell_type": "code",
   "execution_count": null,
   "metadata": {
    "collapsed": false,
    "nbgrader": {
     "grade": false,
     "solution": false
    }
   },
   "outputs": [],
   "source": [
    "NET_ID = \"\"\n",
    "COLLABORATORS = \"\""
   ]
  },
  {
   "cell_type": "markdown",
   "metadata": {
    "nbgrader": {
     "grade": false,
     "solution": false
    }
   },
   "source": [
    "---"
   ]
  },
  {
   "cell_type": "markdown",
   "metadata": {},
   "source": [
    "# An Introduction to Cython"
   ]
  },
  {
   "cell_type": "markdown",
   "metadata": {},
   "source": [
    "Cython is a modification of Python that adds C data types. Almost any piece of Python code is also valid Cython code (with a few [limitations](http://docs.cython.org/src/userguide/limitations.html#cython-limitations).) Cython then converts the (modified) Python code into C code which makes equivalent calls to the Python/C API. This C code is then compiled into a shared library which can be imported into Python.\n",
    "\n",
    "In Cython, function parameters and variables can be declared to have C data types, and code which manipulates Python values and C values can be freely intermixed. Cython takes care of converting from C to Python data types automatically wherever possible. Reference count maintenance and error checking of Python operations is also automatic, and the full power of Python’s exception handling facilities, including the try-except and try-finally statements, is still available.\n",
    "\n",
    "There are two main benefits of Cython:\n",
    "\n",
    "1. **Speed.** How much performance improves depends very much on the program. Typical Python numerical programs would tend to gain very little as most time is spent in lower-level C anyway. However, for-loop-style programs can improve by many orders of magnitude.\n",
    "2. **Easy calling into C code.** One of Cython’s purposes is to allow easy wrapping of C libraries. When writing code in Cython you can call into C code as easily as into Python code."
   ]
  },
  {
   "cell_type": "markdown",
   "metadata": {},
   "source": [
    "The following sections provide a very brief introduction to Cython. See [Cython Language Basics](http://docs.cython.org/src/userguide/language_basics.html#language-basics) for a more detailed description of the Cython language."
   ]
  },
  {
   "cell_type": "markdown",
   "metadata": {},
   "source": [
    "## Cython Syntax"
   ]
  },
  {
   "cell_type": "markdown",
   "metadata": {},
   "source": [
    "### Basic C Types"
   ]
  },
  {
   "cell_type": "markdown",
   "metadata": {},
   "source": [
    "Cython supports most C data types. The following table lists the most common types."
   ]
  },
  {
   "cell_type": "markdown",
   "metadata": {},
   "source": [
    "<p>\n",
    "<table align=\"left\">\n",
    "<tr><td align=\"center\"><b>Type</b></td><td align=\"center\"><b>Description</b></td></tr>\n",
    "<tr><td>`char`</td><td>8 bit integer</td></tr>\n",
    "<tr><td>`short`</td><td>16 bit integer</td></tr>\n",
    "<tr><td>`int`</td><td>32 bit integer</td></tr>\n",
    "<tr><td>`long`</td><td>64 bit integer</td></tr>\n",
    "<tr><td>`long long`</td><td>64 bit integer</td></tr>\n",
    "<tr><td>`float`</td><td>32 bit floating point</td></tr>\n",
    "<tr><td>`double`</td><td>64 bit floating point</td></tr>\n",
    "<tr><td>`long double`</td><td>80 bit floating point</td></tr>\n",
    "<tr><td>`float a[10][30]`</td><td>2-dimensional array</td></tr>\n",
    "<tr><td>`char *s`</td><td>pointer</td></tr>\n",
    "<tr><td>`struct foo`</td><td>structure</td></tr>\n",
    "<tr><td>`union bar`</td><td>union</td></tr>\n",
    "<tr><td>`enum type`</td><td>enumeration</td></tr>\n",
    "</table>\n",
    "</p>"
   ]
  },
  {
   "cell_type": "markdown",
   "metadata": {},
   "source": [
    "### Variable and Type Definitions"
   ]
  },
  {
   "cell_type": "markdown",
   "metadata": {},
   "source": [
    "The `cdef` statement is used to declare C variables, either local or module-level:"
   ]
  },
  {
   "cell_type": "markdown",
   "metadata": {},
   "source": [
    "```cython\n",
    "cdef int i, j, k\n",
    "cdef float f, g[42], *h\n",
    "```"
   ]
  },
  {
   "cell_type": "markdown",
   "metadata": {},
   "source": [
    "In C, types can be given names using the `typedef` statement. The equivalent in Cython is `ctypedef`:"
   ]
  },
  {
   "cell_type": "markdown",
   "metadata": {},
   "source": [
    "```cython\n",
    "ctypedef int * intPtr\n",
    "```"
   ]
  },
  {
   "cell_type": "markdown",
   "metadata": {},
   "source": [
    "Cython also supports C `struct`, `union`, or `enum` types:"
   ]
  },
  {
   "cell_type": "markdown",
   "metadata": {},
   "source": [
    "<p>\n",
    "<table align=\"left\">\n",
    "<tr><td align=\"center\"><b>C code</b></td><td align=\"center\"><b>Cython code</b></td></tr>\n",
    "<tr><td>\n",
    "```\n",
    "struct Grail {\n",
    "    int age;\n",
    "    float volume;\n",
    "}\n",
    "```\n",
    "</td><td>\n",
    "```cython\n",
    "cdef struct Grail:\n",
    "    int age\n",
    "    float volume\n",
    "```\n",
    "</td></tr>\n",
    "<tr><td>\n",
    "```\n",
    "union Food {\n",
    "    char *spam;\n",
    "    float *eggs;\n",
    "}\n",
    "```\n",
    "</td><td>\n",
    "```\n",
    "cdef union Food:\n",
    "    char *spam\n",
    "    float *eggs\n",
    "```\n",
    "</td></tr>\n",
    "<tr><td>\n",
    "```\n",
    "enum CheeseType {\n",
    "    cheddar, edam,\n",
    "    camembert\n",
    "}\n",
    "```\n",
    "</td><td>\n",
    "```\n",
    "cdef enum CheeseType:\n",
    "    cheddar, edam,\n",
    "    camembert\n",
    "```\n",
    "</td></tr>\n",
    "<tr><td>\n",
    "```\n",
    "emum CheeseState {\n",
    "    hard = 1,\n",
    "    soft = 2,\n",
    "    runny = 3\n",
    "}\n",
    "```\n",
    "</td><td>\n",
    "```\n",
    "cdef enum CheeseState:\n",
    "    hard = 1\n",
    "    soft = 2\n",
    "    runny = 3\n",
    "```\n",
    "</td></tr>\n",
    "</table>\n",
    "</p>\n"
   ]
  },
  {
   "cell_type": "markdown",
   "metadata": {},
   "source": [
    "### Functions"
   ]
  },
  {
   "cell_type": "markdown",
   "metadata": {},
   "source": [
    "There are two kinds of function definition in Cython:\n",
    "\n",
    "* **Python functions** are defined using the `def` statement, as in Python. They take Python objects as parameters and return Python objects.\n",
    "\n",
    "* **C functions** are defined using the new `cdef` statement. They take either Python objects or C values as parameters, and can return either Python objects or C values.\n",
    "\n",
    "Within a Cython module, Python functions and C functions can call each other freely, but only Python functions can be called from outside the module by interpreted Python code. So, any functions that you want to “export” from your Cython module must be declared as Python functions using `def`. There is also a hybrid function, called `cpdef`. A `cpdef` can be called from anywhere, but uses the faster C calling conventions when being called from other Cython code. A `cpdef` can also be overridden by a Python method on a subclass or an instance attribute, even when called from Cython. If this happens, most performance gains are of course lost and even if it does not, there is a tiny overhead in calling a `cpdef` method from Cython compared to calling a `cdef` method.\n",
    "\n",
    "Parameters of either type of function can be declared to have C data types, using normal C declaration syntax. For example:"
   ]
  },
  {
   "cell_type": "markdown",
   "metadata": {},
   "source": [
    "```cython\n",
    "def spam(int i, char *s):\n",
    "    ...\n",
    "\n",
    "cdef int eggs(unsigned long l, float f):\n",
    "    ...\n",
    "```"
   ]
  },
  {
   "cell_type": "markdown",
   "metadata": {},
   "source": [
    "Automatic conversion is currently only possible for numeric types, string types and structs (composed recursively of any of these types); attempting to use any other type for the parameter of a Python function will result in a compile-time error. Care must be taken with strings to ensure a reference if the pointer is to be used after the call. Structs can be obtained from Python mappings, and again care must be taken with string attributes if they are to be used after the function returns.\n",
    "\n",
    "C functions, on the other hand, can have parameters of any type, since they’re passed in directly using a normal C function call.\n",
    "\n",
    "Functions declared using `cdef`, like Python functions, will return a False value when execution leaves the function body without an explicit return value. This is in contrast to C/C++, which leaves the return value undefined."
   ]
  },
  {
   "cell_type": "markdown",
   "metadata": {},
   "source": [
    "### Automatic Type Conversions"
   ]
  },
  {
   "cell_type": "markdown",
   "metadata": {},
   "source": [
    "In most situations, automatic conversions will be performed for the basic numeric and string types when a Python object is used in a context requiring a C value, or vice versa. The following table summarises the conversion possibilities.\n",
    "\n",
    "<table align=\"left\">\n",
    "<tr><td><b>C types</b></td><td><b>From Python types</b></td><td><b>To Python types</b></td></tr>\n",
    "<tr><td>`char, short, int, long`</td><td>`int, long`</td><td>`int`</td></tr>\n",
    "<tr><td>`int, long, long long`</td><td>`int, long`</td><td>`long`</td></tr>\n",
    "<tr><td>`float, double, long double`</td><td>`int, long, float`</td><td>`float`</td></tr>\n",
    "<tr><td>`char*`</td><td>`str`</td><td>`str`</td></tr>\n",
    "<tr><td>`struct, union`</td><td></td><td>`dict`</td></tr>\n",
    "</table>"
   ]
  },
  {
   "cell_type": "markdown",
   "metadata": {},
   "source": [
    "### Statements and Expressions"
   ]
  },
  {
   "cell_type": "markdown",
   "metadata": {},
   "source": [
    "Control structures and expressions follow Python syntax for the most part. When applied to Python objects, they have the same semantics as in Python (unless otherwise noted). Most of the Python operators can also be applied to C values, with the obvious semantics.\n",
    "\n",
    "If Python objects and C values are mixed in an expression, conversions are performed automatically between Python objects and C numeric or string types."
   ]
  },
  {
   "cell_type": "markdown",
   "metadata": {},
   "source": [
    "## Executing Cython Code"
   ]
  },
  {
   "cell_type": "markdown",
   "metadata": {},
   "source": [
    "### Manual Compiliation"
   ]
  },
  {
   "cell_type": "markdown",
   "metadata": {},
   "source": [
    "Cython code is normally saved in files ending with `.pyx` (the `x` indicates it is different from standard Python code.) A Cython file must be translated to C using the command:"
   ]
  },
  {
   "cell_type": "markdown",
   "metadata": {},
   "source": [
    "```\n",
    "cython my_module.pyx\n",
    "```"
   ]
  },
  {
   "cell_type": "markdown",
   "metadata": {},
   "source": [
    "This will create a file called `my_module.c` which is the C source for a Python extension module. A useful additional switch is -a which will generate an HTML document (`my_module.html`) that shows which Cython code translates to which C code line by line."
   ]
  },
  {
   "cell_type": "markdown",
   "metadata": {},
   "source": [
    "Once the C file has been generated, it must be compiled into a shared library. This may vary according to the operating system, but for Linux it would be something like:"
   ]
  },
  {
   "cell_type": "markdown",
   "metadata": {},
   "source": [
    "```\n",
    "gcc -shared -pthread -fPIC -fwrapv -O2 -Wall -fno-strict-aliasing -I/usr/include/python2.7 \\\n",
    "        -o my_module.so my_module.c\n",
    "```"
   ]
  },
  {
   "cell_type": "markdown",
   "metadata": {},
   "source": [
    "This command will create a library called `my_module.so`. This library can be treated just like any Python module and imported using the normal import statement:"
   ]
  },
  {
   "cell_type": "markdown",
   "metadata": {},
   "source": [
    "```\n",
    "import my_module\n",
    "```"
   ]
  },
  {
   "cell_type": "markdown",
   "metadata": {},
   "source": [
    "### A Simpler Way"
   ]
  },
  {
   "cell_type": "markdown",
   "metadata": {},
   "source": [
    "Cython can be used conveniently and interactively from a web browser through the IPython notebook.\n",
    "\n",
    "To enable support for Cython compilation, install Cython and load the Cython extension from within IPython:"
   ]
  },
  {
   "cell_type": "code",
   "execution_count": null,
   "metadata": {
    "collapsed": false
   },
   "outputs": [],
   "source": [
    "%load_ext Cython"
   ]
  },
  {
   "cell_type": "markdown",
   "metadata": {},
   "source": [
    "Cython code can now be compiled using the `%%cython` cell magic command:"
   ]
  },
  {
   "cell_type": "code",
   "execution_count": null,
   "metadata": {
    "collapsed": false
   },
   "outputs": [],
   "source": [
    "%%cython\n",
    "\n",
    "def cfunc(int n):\n",
    "    cdef int a = 0\n",
    "    for i in range(n):\n",
    "        a += i\n",
    "    return a"
   ]
  },
  {
   "cell_type": "code",
   "execution_count": null,
   "metadata": {
    "collapsed": false
   },
   "outputs": [],
   "source": [
    "print cfunc(10)"
   ]
  },
  {
   "cell_type": "markdown",
   "metadata": {},
   "source": [
    "It is also possible to see Cython's code analysis using the `--annotate` option."
   ]
  },
  {
   "cell_type": "code",
   "execution_count": null,
   "metadata": {
    "collapsed": false
   },
   "outputs": [],
   "source": [
    "%%cython --annotate\n",
    "\n",
    "def cfunc(int n):\n",
    "    cdef int a = 0\n",
    "    for i in range(n):\n",
    "        a += i\n",
    "    return a"
   ]
  },
  {
   "cell_type": "markdown",
   "metadata": {},
   "source": [
    "## A Simple Example"
   ]
  },
  {
   "cell_type": "markdown",
   "metadata": {},
   "source": [
    "The following pure Python example generates a list of `kmax` prime numbers."
   ]
  },
  {
   "cell_type": "code",
   "execution_count": null,
   "metadata": {
    "collapsed": true
   },
   "outputs": [],
   "source": [
    "def primes(kmax):\n",
    "    p = [None] * 1000 # Initialize the list to the max number of elements\n",
    "    if kmax > 1000:\n",
    "        kmax = 1000\n",
    "    result = []\n",
    "    k = 0\n",
    "    n = 2\n",
    "    while k < kmax:\n",
    "        i = 0\n",
    "        while i < k and n % p[i] != 0:\n",
    "            i = i + 1\n",
    "        if i == k:\n",
    "            p[k] = n\n",
    "            k = k + 1\n",
    "            result.append(n)\n",
    "        n = n + 1\n",
    "    return result"
   ]
  },
  {
   "cell_type": "code",
   "execution_count": null,
   "metadata": {
    "collapsed": false
   },
   "outputs": [],
   "source": [
    "%timeit primes(1000)"
   ]
  },
  {
   "cell_type": "markdown",
   "metadata": {},
   "source": [
    "This code can be run without any changes in Cython. The simplest way to do this is by using the `%%cython` cell magic:"
   ]
  },
  {
   "cell_type": "code",
   "execution_count": null,
   "metadata": {
    "collapsed": false
   },
   "outputs": [],
   "source": [
    "%%cython\n",
    "def cprimes(kmax):\n",
    "    p = [None] * 1000\n",
    "    if kmax > 1000:\n",
    "        kmax = 1000\n",
    "    result = []\n",
    "    k = 0\n",
    "    n = 2\n",
    "    while k < kmax:\n",
    "        i = 0\n",
    "        while i < k and n % p[i] != 0:\n",
    "            i = i + 1\n",
    "        if i == k:\n",
    "            p[k] = n\n",
    "            k = k + 1\n",
    "            result.append(n)\n",
    "        n = n + 1\n",
    "    return result"
   ]
  },
  {
   "cell_type": "code",
   "execution_count": null,
   "metadata": {
    "collapsed": false
   },
   "outputs": [],
   "source": [
    "%timeit cprimes(1000)"
   ]
  },
  {
   "cell_type": "markdown",
   "metadata": {},
   "source": [
    "<div class=\"alert alert-success\">\n",
    "As you can see, this improved the performance of the pure Python implementation. But can we do better? Let's try adding some types. Uncomment the lines below to see how this affects the execution.\n",
    "</div>"
   ]
  },
  {
   "cell_type": "code",
   "execution_count": null,
   "metadata": {
    "collapsed": false,
    "deletable": false,
    "nbgrader": {
     "checksum": "cb97cbdb60f2c86e6c7a4c23ae55b839",
     "grade": true,
     "grade_id": "cython_1",
     "locked": false,
     "points": 1,
     "solution": true
    }
   },
   "outputs": [],
   "source": [
    "# YOUR CODE HERE\n",
    "raise NotImplementedError()"
   ]
  },
  {
   "cell_type": "code",
   "execution_count": null,
   "metadata": {
    "collapsed": false
   },
   "outputs": [],
   "source": [
    "%timeit cprimes2(1000)"
   ]
  },
  {
   "cell_type": "markdown",
   "metadata": {},
   "source": [
    "Wow, that made a big difference!"
   ]
  },
  {
   "cell_type": "markdown",
   "metadata": {},
   "source": [
    "## Cython For NumPy Users"
   ]
  },
  {
   "cell_type": "markdown",
   "metadata": {},
   "source": [
    "NumPy can be used from Cython in exactly the same manner as in regular Python, however Cython also has a number of features that support fast access to NumPy arrays that can result in significant performance gains. In this section, we will look at how some of these features can be used.\n",
    "\n",
    "The code below does 2D discrete convolution of an image with a filter."
   ]
  },
  {
   "cell_type": "code",
   "execution_count": null,
   "metadata": {
    "collapsed": true
   },
   "outputs": [],
   "source": [
    "import numpy as np\n",
    "def naive_convolve(f, g):\n",
    "    # f is an image and is indexed by (v, w)\n",
    "    # g is a filter kernel and is indexed by (s, t),\n",
    "    #   it needs odd dimensions\n",
    "    # h is the output image and is indexed by (x, y),\n",
    "    #   it is not cropped\n",
    "    if g.shape[0] % 2 != 1 or g.shape[1] % 2 != 1:\n",
    "        raise ValueError(\"Only odd dimensions on filter supported\")\n",
    "    # smid and tmid are number of pixels between the center pixel\n",
    "    # and the edge, ie for a 5x5 filter they will be 2.\n",
    "    #\n",
    "    # The output size is calculated by adding smid, tmid to each\n",
    "    # side of the dimensions of the input image.\n",
    "    vmax = f.shape[0]\n",
    "    wmax = f.shape[1]\n",
    "    smax = g.shape[0]\n",
    "    tmax = g.shape[1]\n",
    "    smid = smax // 2\n",
    "    tmid = tmax // 2\n",
    "    xmax = vmax + 2*smid\n",
    "    ymax = wmax + 2*tmid\n",
    "    # Allocate result image.\n",
    "    h = np.zeros([xmax, ymax], dtype=f.dtype)\n",
    "    # Do convolution\n",
    "    for x in range(xmax):\n",
    "        for y in range(ymax):\n",
    "            # Calculate pixel value for h at (x,y). Sum one component\n",
    "            # for each pixel (s, t) of the filter g.\n",
    "            s_from = max(smid - x, -smid)\n",
    "            s_to = min((xmax - x) - smid, smid + 1)\n",
    "            t_from = max(tmid - y, -tmid)\n",
    "            t_to = min((ymax - y) - tmid, tmid + 1)\n",
    "            value = 0\n",
    "            for s in range(s_from, s_to):\n",
    "                for t in range(t_from, t_to):\n",
    "                    v = x - smid + s\n",
    "                    w = y - tmid + t\n",
    "                    value += g[smid - s, tmid - t] * f[v, w]\n",
    "            h[x, y] = value\n",
    "    return h"
   ]
  },
  {
   "cell_type": "markdown",
   "metadata": {},
   "source": [
    "Let's get a baseline on how fast this code executes:"
   ]
  },
  {
   "cell_type": "code",
   "execution_count": null,
   "metadata": {
    "collapsed": false
   },
   "outputs": [],
   "source": [
    "%timeit naive_convolve(np.array([[1, 1, 1]], dtype=np.int), np.array([[1],[2],[1]], dtype=np.int))"
   ]
  },
  {
   "cell_type": "markdown",
   "metadata": {},
   "source": [
    "<div class=\"alert alert-success\">\n",
    "As we saw previously, we can simply compile this code using Cython and expect some performance improvements. Copy the `naive_convolve` function from the cell above, then rename the function `convolve1` and compile it with Cython.\n",
    "</div>"
   ]
  },
  {
   "cell_type": "code",
   "execution_count": null,
   "metadata": {
    "collapsed": false,
    "deletable": false,
    "nbgrader": {
     "checksum": "156675a9bc86f90b5214ceb607e04aaa",
     "grade": false,
     "grade_id": "cython_2",
     "locked": false,
     "solution": true
    }
   },
   "outputs": [],
   "source": [
    "# YOUR CODE HERE\n",
    "raise NotImplementedError()"
   ]
  },
  {
   "cell_type": "code",
   "execution_count": null,
   "metadata": {
    "collapsed": false,
    "deletable": false,
    "nbgrader": {
     "checksum": "b021d149511743de29a7b450fb6cea2d",
     "grade": true,
     "grade_id": "cython_3",
     "locked": true,
     "points": 1,
     "solution": false
    }
   },
   "outputs": [],
   "source": [
    "from nose.tools import assert_equal\n",
    "res1 = naive_convolve(np.array([[1, 1, 1]], dtype=np.int), np.array([[1],[2],[1]], dtype=np.int))\n",
    "res2 = convolve1(np.array([[1, 1, 1]], dtype=np.int), np.array([[1],[2],[1]], dtype=np.int))\n",
    "assert_equal((res1==res2).all(), True)"
   ]
  },
  {
   "cell_type": "markdown",
   "metadata": {},
   "source": [
    "<div class=\"alert alert-success\">\n",
    "Now time the new function and see if it is any faster.\n",
    "</div>"
   ]
  },
  {
   "cell_type": "code",
   "execution_count": null,
   "metadata": {
    "collapsed": false,
    "deletable": false,
    "nbgrader": {
     "checksum": "cc3f0f631c3489e060950ec3ec22876e",
     "grade": true,
     "grade_id": "cython_4",
     "locked": false,
     "points": 1,
     "solution": true
    }
   },
   "outputs": [],
   "source": [
    "# YOUR CODE HERE\n",
    "raise NotImplementedError()"
   ]
  },
  {
   "cell_type": "markdown",
   "metadata": {},
   "source": [
    "<div class=\"alert alert-success\">\n",
    "The next step is to add Cython data types to the code. This code will no longer be compatible with Python, so the consequences of doing this must be carefully considered. The most important change is to use variables that have the same data type as the elements of the NumPy arrays. \n",
    "</div><div class=\"alert alert-success\">\n",
    "The code below will not compile as parts have been commented out. Read each of the commented sections for a description of how the data types are added, then uncomment the line to enable to statement. When you have completed this for the whole function, run the cell to ensure that it compiles correctly. \n",
    "</div>"
   ]
  },
  {
   "cell_type": "code",
   "execution_count": null,
   "metadata": {
    "collapsed": false,
    "deletable": false,
    "nbgrader": {
     "checksum": "4da354723c9587f0966942ed277ffdf8",
     "grade": false,
     "grade_id": "cython_5",
     "locked": false,
     "solution": true
    }
   },
   "outputs": [],
   "source": [
    "# YOUR CODE HERE\n",
    "raise NotImplementedError()"
   ]
  },
  {
   "cell_type": "code",
   "execution_count": null,
   "metadata": {
    "collapsed": false,
    "deletable": false,
    "nbgrader": {
     "checksum": "043f7d21724055b7b906eef4a82f563e",
     "grade": true,
     "grade_id": "cython_6",
     "locked": true,
     "points": 2,
     "solution": false
    }
   },
   "outputs": [],
   "source": [
    "from nose.tools import assert_equal\n",
    "res1 = naive_convolve(np.array([[1, 1, 1]], dtype=np.int), np.array([[1],[2],[1]], dtype=np.int))\n",
    "res2 = convolve2(np.array([[1, 1, 1]], dtype=np.int), np.array([[1],[2],[1]], dtype=np.int))\n",
    "assert_equal((res1==res2).all(), True)"
   ]
  },
  {
   "cell_type": "markdown",
   "metadata": {},
   "source": [
    "Now time this code and see if it has improved."
   ]
  },
  {
   "cell_type": "code",
   "execution_count": null,
   "metadata": {
    "collapsed": false
   },
   "outputs": [],
   "source": [
    "%timeit convolve2(np.array([[1, 1, 1]], dtype=np.int), np.array([[1],[2],[1]], dtype=np.int))"
   ]
  },
  {
   "cell_type": "markdown",
   "metadata": {},
   "source": [
    "### Efficient Indexing"
   ]
  },
  {
   "cell_type": "markdown",
   "metadata": {},
   "source": [
    "This code is still not as efficient as it could be. Array lookups and assignments, like those using the []-operator, still uses full Python operations. It would be much more effient if we could access the data buffer directly at C speed.\n",
    "\n",
    "It is possible to do this by specifying the type of contents of the `ndarray` objects. We do this with a special “buffer” syntax which must be told the datatype (first argument) and number of dimensions (“ndim” keyword-only argument, if not provided then one-dimensional is assumed).\n",
    "\n",
    "The changes that need to be made to the previous code are as follows:"
   ]
  },
  {
   "cell_type": "markdown",
   "metadata": {},
   "source": [
    "<pre>\n",
    "<code>\n",
    "...\n",
    "def convolve2(np.ndarray<b>[DTYPE_t, ndim=2]</b> f, np.ndarray<b>[DTYPE_t, ndim=2]</b> g):\n",
    "...\n",
    "cdef np.ndarray<b>[DTYPE_t, ndim=2]</b> h = ...\n",
    "</code>\n",
    "</pre>"
   ]
  },
  {
   "cell_type": "markdown",
   "metadata": {},
   "source": [
    "Now make these changes to the `convolve3` function below and time the result."
   ]
  },
  {
   "cell_type": "code",
   "execution_count": null,
   "metadata": {
    "collapsed": true,
    "deletable": false,
    "nbgrader": {
     "checksum": "196871fc6399efab74e05e919a1e211c",
     "grade": false,
     "grade_id": "cython7",
     "locked": false,
     "solution": true
    }
   },
   "outputs": [],
   "source": [
    "# YOUR CODE HERE\n",
    "raise NotImplementedError()"
   ]
  },
  {
   "cell_type": "code",
   "execution_count": null,
   "metadata": {
    "collapsed": false,
    "deletable": false,
    "nbgrader": {
     "checksum": "ad86c669f56327bafb86df06c26bef41",
     "grade": true,
     "grade_id": "cython8",
     "locked": true,
     "points": 2,
     "solution": false
    }
   },
   "outputs": [],
   "source": [
    "from nose.tools import assert_equal, assert_less\n",
    "import timeit\n",
    "def run1():\n",
    "    return convolve2(np.array([[1, 1, 1]], dtype=np.int), np.array([[1],[2],[1]], dtype=np.int))\n",
    "def run2():\n",
    "    return convolve3(np.array([[1, 1, 1]], dtype=np.int), np.array([[1],[2],[1]], dtype=np.int))\n",
    "res1 = run1()\n",
    "res2 = run2()\n",
    "t1 = timeit.timeit(run1, number=10000)\n",
    "t2 = timeit.timeit(run2, number=10000)\n",
    "assert_less(t2, t1)\n",
    "assert_equal((res1==res2).all(), True)\n",
    "print \"convolve3 is faster than convolve2 (%f < %f)!\" % (t2, t1)"
   ]
  },
  {
   "cell_type": "markdown",
   "metadata": {},
   "source": [
    "### More Indexing Improvements"
   ]
  },
  {
   "cell_type": "markdown",
   "metadata": {},
   "source": [
    "The NumPy array lookups are still slowed down by two other factors:\n",
    "\n",
    "1. Bounds checking is performed.\n",
    "\n",
    "2. Negative indices are checked for and handled correctly. \n",
    "\n",
    "If we are certain that code will always access within the array bounds, and that it doesn’t use negative indices, then it is possible to some extra performance by avoiding these checks."
   ]
  },
  {
   "cell_type": "markdown",
   "metadata": {},
   "source": [
    "<div class=\"alert alert-danger\">\n",
    "Note however that this comes at the cost of safety. If the code does not behave exactly as you expect, it could crash the program or corrupt data.\n",
    "</div>"
   ]
  },
  {
   "cell_type": "markdown",
   "metadata": {},
   "source": [
    "Bounds checking can be disabled by adding a decorator to the function as follows:"
   ]
  },
  {
   "cell_type": "markdown",
   "metadata": {},
   "source": [
    "```cython\n",
    "...\n",
    "cimport cython\n",
    "@cython.boundscheck(False) # turn off bounds-checking for entire function\n",
    "def convolve3(np.ndarray[DTYPE_t, ndim=2] f, np.ndarray[DTYPE_t, ndim=2] g):\n",
    "...\n",
    "```"
   ]
  },
  {
   "cell_type": "markdown",
   "metadata": {},
   "source": [
    "Now bounds checking is not performed. It is possible to switch bounds-checking mode in many ways, see [Compiler directives](http://docs.cython.org/src/reference/compilation.html#compiler-directives) for more information."
   ]
  },
  {
   "cell_type": "markdown",
   "metadata": {
    "collapsed": true
   },
   "source": [
    "Negative indices are dealt with by forcing the indexes to be positive using the unsigned integer type for the index variables and casting values to this type. If negative values are cast, then this will create a very large positive value instead and it may result in an attempt to access out-of-bounds values. Casting is done with a special <>-syntax. The code below shows how to change the function to use either unsigned ints or casting as appropriate:"
   ]
  },
  {
   "cell_type": "markdown",
   "metadata": {},
   "source": [
    "```cython\n",
    "...\n",
    "cdef int s, t\n",
    "cdef unsigned int x, y, v, w\n",
    "...\n",
    "               v = <unsigned int>(x - smid + s)\n",
    "               w = <unsigned int>(y - tmid + t)\n",
    "               value += g[<unsigned int>(smid - s), <unsigned int>(tmid - t)] * f[v, w]\n",
    "...\n",
    "```"
   ]
  },
  {
   "cell_type": "markdown",
   "metadata": {},
   "source": [
    "<div class=\"alert alert-success\">\n",
    "Make the changes for the bounds checking and negative indices to the following code and compare how it performs with the other versions.\n",
    "</div>"
   ]
  },
  {
   "cell_type": "code",
   "execution_count": null,
   "metadata": {
    "collapsed": false,
    "deletable": false,
    "nbgrader": {
     "checksum": "41dbdc75f748d01e210cd1acdb4c59d9",
     "grade": false,
     "grade_id": "cython9",
     "locked": false,
     "solution": true
    }
   },
   "outputs": [],
   "source": [
    "# YOUR CODE HERE\n",
    "raise NotImplementedError()"
   ]
  },
  {
   "cell_type": "code",
   "execution_count": null,
   "metadata": {
    "collapsed": false,
    "deletable": false,
    "nbgrader": {
     "checksum": "19869be5b69cf426102d11b0a1e2c53f",
     "grade": true,
     "grade_id": "cython10",
     "locked": true,
     "points": 2,
     "solution": false
    }
   },
   "outputs": [],
   "source": [
    "from nose.tools import assert_equal, assert_less\n",
    "import timeit\n",
    "def run1():\n",
    "    return convolve2(np.array([[1, 1, 1]], dtype=np.int), np.array([[1],[2],[1]], dtype=np.int))\n",
    "def run2():\n",
    "    return convolve4(np.array([[1, 1, 1]], dtype=np.int), np.array([[1],[2],[1]], dtype=np.int))\n",
    "res1 = run1()\n",
    "res2 = run2()\n",
    "t1 = timeit.timeit(run1, number=100000)\n",
    "t2 = timeit.timeit(run2, number=100000)\n",
    "assert_less(t2, t1)\n",
    "assert_equal((res1==res2).all(), True)\n",
    "print \"convolve4 is faster than convolve2 (%f < %f)!\" % (t2, t1)"
   ]
  },
  {
   "cell_type": "markdown",
   "metadata": {},
   "source": [
    "## Conclusion"
   ]
  },
  {
   "cell_type": "markdown",
   "metadata": {},
   "source": [
    "To summarize what we learned:\n",
    "* A new syntax for specifying C-like data types\n",
    "* Running pure Python code with Cython improves performance\n",
    "* Modifying Python code to add type information helps Cython optimize the code further\n",
    "* Cython provides compile-time information that helps speed up NumPy programs\n",
    "* Using type information when manipulating NumPy arrays boosts performance\n",
    "* Removing safety checks on array bounds and negative indexes can speed performance at the expense of safety"
   ]
  }
 ],
 "metadata": {
  "kernelspec": {
   "display_name": "Python 2",
   "language": "python",
   "name": "python2"
  },
  "language_info": {
   "codemirror_mode": {
    "name": "ipython",
    "version": 2
   },
   "file_extension": ".py",
   "mimetype": "text/x-python",
   "name": "python",
   "nbconvert_exporter": "python",
   "pygments_lexer": "ipython2",
   "version": "2.7.11"
  }
 },
 "nbformat": 4,
 "nbformat_minor": 0
}